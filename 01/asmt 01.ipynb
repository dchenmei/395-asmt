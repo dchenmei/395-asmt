{
 "cells": [
  {
   "cell_type": "markdown",
   "metadata": {},
   "source": [
    "<h1> 1. Decision Tree </h1>"
   ]
  },
  {
   "cell_type": "markdown",
   "metadata": {},
   "source": [
    "1. "
   ]
  },
  {
   "cell_type": "markdown",
   "metadata": {},
   "source": [
    "(a) $ (x_{1} \\land x_{2}) \\lor (x_{1} \\land x_{3}) $"
   ]
  },
  {
   "cell_type": "markdown",
   "metadata": {},
   "source": [
    "$ if x_{2} then: \\\\\n",
    "    if x_{1} then: \\\\\n",
    "        True \\\\\n",
    "    else:\\\\\n",
    "        False\\\\\n",
    "  else:\\\\\n",
    "    if x_{1} then:\\\\\n",
    "        if x_{3} then:\\\\\n",
    "            True\\\\\n",
    "         else:\\\\\n",
    "             False\\\\\n",
    "    else:\\\\\n",
    "        False\\\\\n",
    "$"
   ]
  },
  {
   "cell_type": "markdown",
   "metadata": {},
   "source": [
    "(b) $ (x_{1} \\land x_{2})$ xor $ x_{3} $"
   ]
  },
  {
   "cell_type": "code",
   "execution_count": null,
   "metadata": {},
   "outputs": [],
   "source": []
  },
  {
   "cell_type": "markdown",
   "metadata": {},
   "source": [
    "(c) $ \\neg A \\lor \\neg B \\lor \\neg C \\lor \\neg D $"
   ]
  },
  {
   "cell_type": "code",
   "execution_count": null,
   "metadata": {},
   "outputs": [],
   "source": []
  },
  {
   "cell_type": "markdown",
   "metadata": {},
   "source": [
    "2."
   ]
  },
  {
   "cell_type": "markdown",
   "metadata": {},
   "source": [
    "(a) "
   ]
  },
  {
   "cell_type": "markdown",
   "metadata": {},
   "source": [
    "(b) $ Entropy(S) = H(S) = -p_{+} \\log(p_{+}) - p_{-} \\log(p_{-}) $\n",
    "\n",
    "    Technology\n",
    "    \n",
    "    $ H(No) = -p_{+} $"
   ]
  },
  {
   "cell_type": "code",
   "execution_count": null,
   "metadata": {},
   "outputs": [],
   "source": []
  }
 ],
 "metadata": {
  "kernelspec": {
   "display_name": "Python 3",
   "language": "python",
   "name": "python3"
  },
  "language_info": {
   "codemirror_mode": {
    "name": "ipython",
    "version": 3
   },
   "file_extension": ".py",
   "mimetype": "text/x-python",
   "name": "python",
   "nbconvert_exporter": "python",
   "pygments_lexer": "ipython3",
   "version": "3.5.2"
  }
 },
 "nbformat": 4,
 "nbformat_minor": 2
}
